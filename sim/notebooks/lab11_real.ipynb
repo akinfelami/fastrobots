{
 "cells": [
  {
   "cell_type": "markdown",
   "metadata": {
    "tags": []
   },
   "source": [
    "# Lab 11: Grid Localization using Bayes Filter (Real Robot)\n",
    "\n",
    "### <span style=\"color:rgb(0,150,0)\">It is recommended that you close any heavy-duty applications running on your system while working on this lab.</span>\n",
    "\n",
    "### <span style=\"color:rgb(0,150,0)\">The notebook only provides skeleton code for you to integrate the Localization class with the Real Robot.</span>\n",
    "\n",
    "<hr>"
   ]
  },
  {
   "cell_type": "code",
   "execution_count": 77,
   "metadata": {},
   "outputs": [
    {
     "name": "stdout",
     "output_type": "stream",
     "text": [
      "The autoreload extension is already loaded. To reload it, use:\n",
      "  %reload_ext autoreload\n",
      "2025-04-28 14:05:55,764 |\u001b[32m INFO     \u001b[0m|: Logger demo_notebook.log already initialized.\n",
      "2025-04-28 14:05:55,765 |\u001b[32m INFO     \u001b[0m|: GUI is already running. Shutdown notebook to force restart the GUI.\n"
     ]
    }
   ],
   "source": [
    "%load_ext autoreload\n",
    "%autoreload 2\n",
    "\n",
    "import traceback\n",
    "from notebook_utils import *\n",
    "from Traj import *\n",
    "import asyncio\n",
    "import pathlib\n",
    "import os\n",
    "from utils import load_config_params\n",
    "from localization_extras import Localization\n",
    "\n",
    "# The imports below will only work if you copied the required ble-related python files \n",
    "# into the notebooks directory\n",
    "from ble import get_ble_controller\n",
    "from base_ble import LOG\n",
    "from cmd_types import CMD\n",
    "import numpy as np\n",
    "\n",
    "# Setup Logger\n",
    "LOG = get_logger('demo_notebook.log')\n",
    "LOG.propagate = False\n",
    "\n",
    "# Init GUI and Commander\n",
    "gui = GET_GUI()\n",
    "cmdr = gui.launcher.commander"
   ]
  },
  {
   "cell_type": "code",
   "execution_count": 156,
   "metadata": {},
   "outputs": [
    {
     "name": "stdout",
     "output_type": "stream",
     "text": [
      "2025-04-28 14:31:58,702 |\u001b[32m INFO     \u001b[0m|: Creating New Plotter Process\n"
     ]
    }
   ],
   "source": [
    "# Start the plotter\n",
    "START_PLOTTER()"
   ]
  },
  {
   "cell_type": "code",
   "execution_count": 162,
   "metadata": {},
   "outputs": [
    {
     "name": "stdout",
     "output_type": "stream",
     "text": [
      "2025-04-28 14:33:29,847 |\u001b[32m INFO     \u001b[0m|: Plotter is stopped\n"
     ]
    }
   ],
   "source": [
    "STOP_PLOTTER()"
   ]
  },
  {
   "cell_type": "code",
   "execution_count": null,
   "metadata": {},
   "outputs": [],
   "source": []
  },
  {
   "cell_type": "markdown",
   "metadata": {},
   "source": [
    "# The RealRobot class\n",
    "Define the RealRobot class in the code cell below, based on the documentation and your real robot communication protocol. <br>\n",
    "This class is used by the **Localization** class to communicate with the real robot. <br>\n",
    "More specifically, the **Localization** class utilizes the **RealRobot's** member function **perform_observation_loop()** to get the 18 sensor readings and store them in its member variable **obs_range_data**, which is then utilized in the update step."
   ]
  },
  {
   "cell_type": "code",
   "execution_count": null,
   "metadata": {},
   "outputs": [],
   "source": [
    "import csv\n",
    "import datetime\n",
    "import asyncio\n",
    "\n",
    "\n",
    "class RealRobot():\n",
    "    \"\"\"A class to interact with the real robot\n",
    "    \"\"\"\n",
    "\n",
    "    def __init__(self, commander, ble):\n",
    "        # Load world config\n",
    "        self.world_config = os.path.join(\n",
    "            str(pathlib.Path(os.getcwd()).parent), \"config\", \"world.yaml\")\n",
    "\n",
    "        self.config_params = load_config_params(self.world_config)\n",
    "\n",
    "        # Commander to commuincate with the Plotter process\n",
    "        # Used by the Localization module to plot odom and belief\n",
    "        self.cmdr = commander\n",
    "\n",
    "        # ArtemisBLEController to communicate with the Robot\n",
    "        # self.ble = ble\n",
    "\n",
    "        self.is_done_collecting = False\n",
    "        self.results = []\n",
    "        self.ble.start_notify(\n",
    "            self.ble.uuid['RX_STRING'], self.notification_handler)\n",
    "\n",
    "    def notification_handler(self, uuid, byte_array):\n",
    "        result = self.ble.bytearray_to_string(byte_array)\n",
    "        if result == \"DONE\":\n",
    "            LOG.info(\"Done Notification Received\")\n",
    "            self.is_done_collecting = True\n",
    "        else:\n",
    "            LOG.info(\"Data Notification Received...processing\")\n",
    "            time, imu, pwm, tof = self.ble.bytearray_to_string(\n",
    "                byte_array).split('|')\n",
    "            self.results.append(\n",
    "                [float(time), float(imu), int(pwm), float(tof)])\n",
    "\n",
    "    def get_pose(self):\n",
    "        \"\"\"Get robot pose based on odometry\n",
    "\n",
    "        Returns:\n",
    "            current_odom -- Odometry Pose (meters, meters, degrees)\n",
    "        \"\"\"\n",
    "        raise NotImplementedError(\"get_pose is not implemented\")\n",
    "\n",
    "    async def perform_observation_loop(self, rot_vel=120):\n",
    "        \"\"\"Perform the observation loop behavior on the real robot, where the robot does  \n",
    "        a 360 degree turn in place while collecting equidistant (in the angular space) sensor\n",
    "        readings, with the first sensor reading taken at the robot's current heading. \n",
    "        The number of sensor readings depends on \"observations_count\"(=18) defined in world.yaml.\n",
    "\n",
    "        Keyword arguments:\n",
    "            rot_vel -- (Optional) Angular Velocity for loop (degrees/second)\n",
    "                        Do not remove this parameter from the function definition, even if you don't use it.\n",
    "        Returns:\n",
    "            sensor_ranges   -- A column numpy array of the range values (meters)\n",
    "            sensor_bearings -- A column numpy array of the bearings at which the sensor readings were taken (degrees)\n",
    "                               The bearing values are not used in the Localization module, so you may return a empty numpy array\n",
    "        \"\"\"\n",
    "        self.ble.send_command(CMD.START_PID, \"\")\n",
    "        LOG.info(\"Performing Observation Loop\")\n",
    "        while self.is_done_collecting == False:\n",
    "            await asyncio.sleep(0.1)\n",
    "\n",
    "        LOG.info(\"Collecting Data\")\n",
    "        self.ble.send_command(CMD.SEND_PID_DATA, \"\")\n",
    "\n",
    "\n",
    "        await asyncio.sleep(5)\n",
    "\n",
    "        LOG.info('Finished receiving data.')\n",
    "        LOG.info(self.results)\n",
    "\n",
    "        imu_angles_deg = np.array([i[1] for i in self.results])\n",
    "        tof_readings = np.array([i[3] for i in self.results])\n",
    "\n",
    "        trials = 1\n",
    "\n",
    "        angle = imu_angles_deg.reshape(\n",
    "            (18, trials)).mean(axis=1)[np.newaxis].T\n",
    "        distance = tof_readings.reshape((18, trials)).mean(axis=1)[\n",
    "            np.newaxis].T / 1000  # mm -> m\n",
    "\n",
    "        # save to csv file\n",
    "        angle = '(5,3)'\n",
    "        timestamp = datetime.datetime.now().strftime(\"%Y%m%d_%H%M%S\")\n",
    "        filename = f\"robot_data_{timestamp}_{angle}.csv\"\n",
    "\n",
    "        with open(filename, 'w', newline='') as csvfile:\n",
    "            csvwriter = csv.writer(csvfile)\n",
    "            # Write header\n",
    "            csvwriter.writerow(['Time (ms)', 'IMU', 'PWM', 'TOF'])\n",
    "            # Write all data rows\n",
    "            csvwriter.writerows(self.results)\n",
    "\n",
    "        print(f\"Data saved to {filename}\")\n",
    "\n",
    "        return distance, angle"
   ]
  },
  {
   "cell_type": "code",
   "execution_count": 84,
   "metadata": {},
   "outputs": [
    {
     "name": "stdout",
     "output_type": "stream",
     "text": [
      "2025-04-28 14:06:41,240 |\u001b[32m INFO     \u001b[0m|: Looking for Artemis Nano Peripheral Device: c0:81:04:26:a3:64\n"
     ]
    },
    {
     "ename": "KeyboardInterrupt",
     "evalue": "",
     "output_type": "error",
     "traceback": [
      "\u001b[31m---------------------------------------------------------------------------\u001b[39m",
      "\u001b[31mKeyboardInterrupt\u001b[39m                         Traceback (most recent call last)",
      "\u001b[36mCell\u001b[39m\u001b[36m \u001b[39m\u001b[32mIn[84]\u001b[39m\u001b[32m, line 5\u001b[39m\n\u001b[32m      2\u001b[39m ble = get_ble_controller()\n\u001b[32m      4\u001b[39m \u001b[38;5;66;03m# Connect to the Artemis Device\u001b[39;00m\n\u001b[32m----> \u001b[39m\u001b[32m5\u001b[39m \u001b[43mble\u001b[49m\u001b[43m.\u001b[49m\u001b[43mconnect\u001b[49m\u001b[43m(\u001b[49m\u001b[43m)\u001b[49m\n",
      "\u001b[36mFile \u001b[39m\u001b[32m~/Desktop/Desktop/dev/fastrobots/sim/notebooks/ble.py:58\u001b[39m, in \u001b[36mBaseBLEController.connect\u001b[39m\u001b[34m(self, max_retries)\u001b[39m\n\u001b[32m     55\u001b[39m retry_ctr = \u001b[32m0\u001b[39m\n\u001b[32m     57\u001b[39m \u001b[38;5;28;01mwhile\u001b[39;00m retry_ctr < max_retries:\n\u001b[32m---> \u001b[39m\u001b[32m58\u001b[39m     success = \u001b[38;5;28;43mself\u001b[39;49m\u001b[43m.\u001b[49m\u001b[43m_wait\u001b[49m\u001b[43m(\u001b[49m\u001b[38;5;28;43mself\u001b[39;49m\u001b[43m.\u001b[49m\u001b[43mdevice\u001b[49m\u001b[43m.\u001b[49m\u001b[43m_connect\u001b[49m\u001b[43m(\u001b[49m\u001b[43m)\u001b[49m\u001b[43m)\u001b[49m\n\u001b[32m     59\u001b[39m     \u001b[38;5;28;01mif\u001b[39;00m success:\n\u001b[32m     60\u001b[39m         \u001b[38;5;28;01mbreak\u001b[39;00m\n",
      "\u001b[36mFile \u001b[39m\u001b[32m~/Desktop/Desktop/dev/fastrobots/sim/notebooks/base_ble.py:27\u001b[39m, in \u001b[36mwait_b\u001b[39m\u001b[34m(coroutine)\u001b[39m\n\u001b[32m     26\u001b[39m \u001b[38;5;28;01mdef\u001b[39;00m\u001b[38;5;250m \u001b[39m\u001b[34mwait_b\u001b[39m(coroutine):\n\u001b[32m---> \u001b[39m\u001b[32m27\u001b[39m     \u001b[38;5;28;01mreturn\u001b[39;00m \u001b[43masyncio\u001b[49m\u001b[43m.\u001b[49m\u001b[43mrun\u001b[49m\u001b[43m(\u001b[49m\u001b[43mcoroutine\u001b[49m\u001b[43m)\u001b[49m\n",
      "\u001b[36mFile \u001b[39m\u001b[32m~/Desktop/Desktop/dev/fastrobots/sim/venv/lib/python3.11/site-packages/nest_asyncio.py:30\u001b[39m, in \u001b[36m_patch_asyncio.<locals>.run\u001b[39m\u001b[34m(main, debug)\u001b[39m\n\u001b[32m     28\u001b[39m task = asyncio.ensure_future(main)\n\u001b[32m     29\u001b[39m \u001b[38;5;28;01mtry\u001b[39;00m:\n\u001b[32m---> \u001b[39m\u001b[32m30\u001b[39m     \u001b[38;5;28;01mreturn\u001b[39;00m \u001b[43mloop\u001b[49m\u001b[43m.\u001b[49m\u001b[43mrun_until_complete\u001b[49m\u001b[43m(\u001b[49m\u001b[43mtask\u001b[49m\u001b[43m)\u001b[49m\n\u001b[32m     31\u001b[39m \u001b[38;5;28;01mfinally\u001b[39;00m:\n\u001b[32m     32\u001b[39m     \u001b[38;5;28;01mif\u001b[39;00m \u001b[38;5;129;01mnot\u001b[39;00m task.done():\n",
      "\u001b[36mFile \u001b[39m\u001b[32m~/Desktop/Desktop/dev/fastrobots/sim/venv/lib/python3.11/site-packages/nest_asyncio.py:92\u001b[39m, in \u001b[36m_patch_loop.<locals>.run_until_complete\u001b[39m\u001b[34m(self, future)\u001b[39m\n\u001b[32m     90\u001b[39m     f._log_destroy_pending = \u001b[38;5;28;01mFalse\u001b[39;00m\n\u001b[32m     91\u001b[39m \u001b[38;5;28;01mwhile\u001b[39;00m \u001b[38;5;129;01mnot\u001b[39;00m f.done():\n\u001b[32m---> \u001b[39m\u001b[32m92\u001b[39m     \u001b[38;5;28;43mself\u001b[39;49m\u001b[43m.\u001b[49m\u001b[43m_run_once\u001b[49m\u001b[43m(\u001b[49m\u001b[43m)\u001b[49m\n\u001b[32m     93\u001b[39m     \u001b[38;5;28;01mif\u001b[39;00m \u001b[38;5;28mself\u001b[39m._stopping:\n\u001b[32m     94\u001b[39m         \u001b[38;5;28;01mbreak\u001b[39;00m\n",
      "\u001b[36mFile \u001b[39m\u001b[32m~/Desktop/Desktop/dev/fastrobots/sim/venv/lib/python3.11/site-packages/nest_asyncio.py:115\u001b[39m, in \u001b[36m_patch_loop.<locals>._run_once\u001b[39m\u001b[34m(self)\u001b[39m\n\u001b[32m    108\u001b[39m     heappop(scheduled)\n\u001b[32m    110\u001b[39m timeout = (\n\u001b[32m    111\u001b[39m     \u001b[32m0\u001b[39m \u001b[38;5;28;01mif\u001b[39;00m ready \u001b[38;5;129;01mor\u001b[39;00m \u001b[38;5;28mself\u001b[39m._stopping\n\u001b[32m    112\u001b[39m     \u001b[38;5;28;01melse\u001b[39;00m \u001b[38;5;28mmin\u001b[39m(\u001b[38;5;28mmax\u001b[39m(\n\u001b[32m    113\u001b[39m         scheduled[\u001b[32m0\u001b[39m]._when - \u001b[38;5;28mself\u001b[39m.time(), \u001b[32m0\u001b[39m), \u001b[32m86400\u001b[39m) \u001b[38;5;28;01mif\u001b[39;00m scheduled\n\u001b[32m    114\u001b[39m     \u001b[38;5;28;01melse\u001b[39;00m \u001b[38;5;28;01mNone\u001b[39;00m)\n\u001b[32m--> \u001b[39m\u001b[32m115\u001b[39m event_list = \u001b[38;5;28;43mself\u001b[39;49m\u001b[43m.\u001b[49m\u001b[43m_selector\u001b[49m\u001b[43m.\u001b[49m\u001b[43mselect\u001b[49m\u001b[43m(\u001b[49m\u001b[43mtimeout\u001b[49m\u001b[43m)\u001b[49m\n\u001b[32m    116\u001b[39m \u001b[38;5;28mself\u001b[39m._process_events(event_list)\n\u001b[32m    118\u001b[39m end_time = \u001b[38;5;28mself\u001b[39m.time() + \u001b[38;5;28mself\u001b[39m._clock_resolution\n",
      "\u001b[36mFile \u001b[39m\u001b[32m/Library/Frameworks/Python.framework/Versions/3.11/lib/python3.11/selectors.py:561\u001b[39m, in \u001b[36mKqueueSelector.select\u001b[39m\u001b[34m(self, timeout)\u001b[39m\n\u001b[32m    559\u001b[39m ready = []\n\u001b[32m    560\u001b[39m \u001b[38;5;28;01mtry\u001b[39;00m:\n\u001b[32m--> \u001b[39m\u001b[32m561\u001b[39m     kev_list = \u001b[38;5;28mself\u001b[39m._selector.control(\u001b[38;5;28;01mNone\u001b[39;00m, max_ev, timeout)\n\u001b[32m    562\u001b[39m \u001b[38;5;28;01mexcept\u001b[39;00m \u001b[38;5;167;01mInterruptedError\u001b[39;00m:\n\u001b[32m    563\u001b[39m     \u001b[38;5;28;01mreturn\u001b[39;00m ready\n",
      "\u001b[31mKeyboardInterrupt\u001b[39m: "
     ]
    }
   ],
   "source": [
    "# Get ArtemisBLEController object\n",
    "ble = get_ble_controller()\n",
    "\n",
    "# Connect to the Artemis Device\n",
    "ble.connect()"
   ]
  },
  {
   "cell_type": "code",
   "execution_count": 159,
   "metadata": {},
   "outputs": [
    {
     "name": "stdout",
     "output_type": "stream",
     "text": [
      "2025-04-28 14:32:18,119 |\u001b[32m INFO     \u001b[0m|:  | Number of observations per grid cell: 18\n",
      "2025-04-28 14:32:18,122 |\u001b[32m INFO     \u001b[0m|:  | Precaching Views...\n",
      "2025-04-28 14:32:19,222 |\u001b[32m INFO     \u001b[0m|:  | Precaching Time: 1.098 secs\n",
      "2025-04-28 14:32:19,223 |\u001b[32m INFO     \u001b[0m|: Initializing beliefs with a Uniform Distribution\n",
      "2025-04-28 14:32:19,223 |\u001b[32m INFO     \u001b[0m|: Uniform Belief with each cell value: 0.00051440329218107\n"
     ]
    }
   ],
   "source": [
    "# Initialize RealRobot with a Commander object to communicate with the plotter process\n",
    "# and the ArtemisBLEController object to communicate with the real robot\n",
    "robot = RealRobot(cmdr)\n",
    "\n",
    "# Initialize mapper\n",
    "# Requires a VirtualRobot object as a parameter\n",
    "mapper = Mapper(robot)\n",
    "\n",
    "# Initialize your BaseLocalization object\n",
    "# Requires a RealRobot object and a Mapper object as parameters\n",
    "loc = Localization(robot, mapper)\n",
    "\n",
    "## Plot Map\n",
    "cmdr.plot_map()"
   ]
  },
  {
   "cell_type": "markdown",
   "metadata": {},
   "source": [
    "# Run an update step of the Bayes Filter"
   ]
  },
  {
   "cell_type": "code",
   "execution_count": null,
   "metadata": {},
   "outputs": [
    {
     "name": "stdout",
     "output_type": "stream",
     "text": [
      "2025-04-28 14:33:05,242 |\u001b[32m INFO     \u001b[0m|: Initializing beliefs with a Uniform Distribution\n",
      "2025-04-28 14:33:05,242 |\u001b[32m INFO     \u001b[0m|: Uniform Belief with each cell value: 0.00051440329218107\n",
      "[[25789.0, 0.0, 0.0, 440.0], [26787.0, 17.0, 0.0, 444.0], [27019.0, 37.0, 0.0, 459.0], [27441.0, 58.0, 0.0, 583.0], [28307.0, 77.0, 0.0, 523.0], [29840.0, 97.0, 0.0, 419.0], [31596.0, 117.0, 0.0, 395.0], [32188.0, 137.0, 0.0, 460.0], [33053.0, 157.0, 0.0, 637.0], [33677.0, 177.0, 0.0, 1071.0], [36757.0, 197.0, 0.0, 2482.0], [37523.0, 217.0, 0.0, 3015.0], [39761.0, 237.0, 0.0, 708.0], [40741.0, 257.0, 0.0, 475.0], [41279.0, 277.0, 0.0, 430.0], [41667.0, 297.0, 0.0, 1721.0], [42198.0, 317.0, 0.0, 1075.0], [43346.0, 337.0, 0.0, 642.0]]\n",
      "2025-04-28 14:33:05,243 |\u001b[32m INFO     \u001b[0m|: Update Step\n",
      "2025-04-28 14:33:05,245 |\u001b[32m INFO     \u001b[0m|:      | Update Time: 0.001 secs\n",
      "2025-04-28 14:33:05,245 |\u001b[32m INFO     \u001b[0m|: Bel index     : (np.int64(10), np.int64(6), np.int64(7)) with prob = 0.9999999\n",
      "2025-04-28 14:33:05,246 |\u001b[32m INFO     \u001b[0m|: Bel_bar prob at index = 0.00051440329218107\n",
      "2025-04-28 14:33:05,246 |\u001b[32m INFO     \u001b[0m|: Belief        : (1.524, 0.610, -30.000)\n"
     ]
    },
    {
     "name": "stderr",
     "output_type": "stream",
     "text": [
      "Traceback (most recent call last):\n",
      "  File \"/Users/akin/Desktop/Desktop/dev/fastrobots/sim/src/plotter.py\", line 263, in keyPressEvent\n",
      "    if event.key() == Qt.Key_Escape:\n",
      "                      ^^^^^^^^^^^^^\n",
      "AttributeError: type object 'Qt' has no attribute 'Key_Escape'\n",
      "Traceback (most recent call last):\n",
      "  File \"/Users/akin/Desktop/Desktop/dev/fastrobots/sim/src/plotter.py\", line 263, in keyPressEvent\n",
      "    if event.key() == Qt.Key_Escape:\n",
      "                      ^^^^^^^^^^^^^\n",
      "AttributeError: type object 'Qt' has no attribute 'Key_Escape'\n"
     ]
    }
   ],
   "source": [
    "# Reset Plots\n",
    "cmdr.reset_plotter()\n",
    "\n",
    "# Init Uniform Belief\n",
    "loc.init_grid_beliefs()\n",
    "\n",
    "# Get Observation Data by executing a 360 degree rotation motion\n",
    "await loc.get_observation_data()\n",
    "\n",
    "# Run Update Step\n",
    "loc.update_step()\n",
    "loc.plot_update_step_data(plot_data=True)\n",
    "\n",
    "# Plot Odom and GT\n",
    "# current_odom, current_gt = robot.get_pose()\n",
    "cmdr.plot_gt(1.524, 0.9144)\n",
    "# cmdr.plot_gt(current_gt[0], current_gt[1])\n",
    "# cmdr.plot_odom(current_odom[0], current_odom[1])"
   ]
  },
  {
   "cell_type": "code",
   "execution_count": null,
   "metadata": {},
   "outputs": [],
   "source": []
  },
  {
   "cell_type": "code",
   "execution_count": 54,
   "metadata": {},
   "outputs": [
    {
     "ename": "Exception",
     "evalue": "Simulator is not running",
     "output_type": "error",
     "traceback": [
      "\u001b[31m---------------------------------------------------------------------------\u001b[39m",
      "\u001b[31mException\u001b[39m                                 Traceback (most recent call last)",
      "\u001b[36mCell\u001b[39m\u001b[36m \u001b[39m\u001b[32mIn[54]\u001b[39m\u001b[32m, line 1\u001b[39m\n\u001b[32m----> \u001b[39m\u001b[32m1\u001b[39m \u001b[43mcmdr\u001b[49m\u001b[43m.\u001b[49m\u001b[43mget_pose\u001b[49m\u001b[43m(\u001b[49m\u001b[43m)\u001b[49m\n",
      "\u001b[36mFile \u001b[39m\u001b[32m~/Desktop/Desktop/dev/fastrobots/sim/commander.py:187\u001b[39m, in \u001b[36mCommander.get_pose\u001b[39m\u001b[34m(self)\u001b[39m\n\u001b[32m    185\u001b[39m         \u001b[38;5;28;01mreturn\u001b[39;00m poses\n\u001b[32m    186\u001b[39m \u001b[38;5;28;01melse\u001b[39;00m:\n\u001b[32m--> \u001b[39m\u001b[32m187\u001b[39m     \u001b[38;5;28;01mraise\u001b[39;00m \u001b[38;5;167;01mException\u001b[39;00m(\u001b[33m\"\u001b[39m\u001b[33mSimulator is not running\u001b[39m\u001b[33m\"\u001b[39m)\n",
      "\u001b[31mException\u001b[39m: Simulator is not running"
     ]
    }
   ],
   "source": [
    "cmdr.get_pose()"
   ]
  },
  {
   "cell_type": "code",
   "execution_count": null,
   "metadata": {},
   "outputs": [],
   "source": []
  }
 ],
 "metadata": {
  "kernelspec": {
   "display_name": "Simulator",
   "language": "python",
   "name": "venv"
  },
  "language_info": {
   "codemirror_mode": {
    "name": "ipython",
    "version": 3
   },
   "file_extension": ".py",
   "mimetype": "text/x-python",
   "name": "python",
   "nbconvert_exporter": "python",
   "pygments_lexer": "ipython3",
   "version": "3.11.3"
  }
 },
 "nbformat": 4,
 "nbformat_minor": 4
}
