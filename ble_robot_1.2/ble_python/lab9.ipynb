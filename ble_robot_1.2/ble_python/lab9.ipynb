{
 "cells": [
  {
   "cell_type": "code",
   "execution_count": 1,
   "id": "dfa73bb2",
   "metadata": {},
   "outputs": [],
   "source": [
    "%load_ext autoreload\n",
    "%autoreload 2\n",
    "\n",
    "from ble import get_ble_controller\n",
    "from base_ble import LOG\n",
    "from cmd_types_lab9 import CMD\n",
    "import time\n",
    "import numpy as np\n",
    "LOG.propagate = False"
   ]
  },
  {
   "cell_type": "code",
   "execution_count": 23,
   "id": "876c2a37",
   "metadata": {},
   "outputs": [
    {
     "name": "stdout",
     "output_type": "stream",
     "text": [
      "2025-04-14 19:25:06,771 |\u001b[32m INFO     \u001b[0m|: Looking for Artemis Nano Peripheral Device: c0:81:04:26:a3:64\n"
     ]
    },
    {
     "name": "stdout",
     "output_type": "stream",
     "text": [
      "2025-04-14 19:25:09,947 |\u001b[32m INFO     \u001b[0m|: Connected to c0:81:04:26:a3:64\n"
     ]
    }
   ],
   "source": [
    "ble = get_ble_controller()\n",
    "\n",
    "# Connect to the Artemis Device\n",
    "ble.connect()"
   ]
  },
  {
   "cell_type": "code",
   "execution_count": null,
   "id": "9466b995",
   "metadata": {},
   "outputs": [],
   "source": [
    "ble.disconnect()"
   ]
  },
  {
   "cell_type": "code",
   "execution_count": 24,
   "id": "c344ea5d",
   "metadata": {},
   "outputs": [
    {
     "name": "stdout",
     "output_type": "stream",
     "text": [
      "PONG\n"
     ]
    }
   ],
   "source": [
    "ble.send_command(CMD.PING, \"\")\n",
    "s = ble.receive_string(ble.uuid['RX_STRING'])\n",
    "print(s)"
   ]
  },
  {
   "cell_type": "code",
   "execution_count": 16,
   "id": "5be3e805",
   "metadata": {},
   "outputs": [],
   "source": [
    "ble.send_command(CMD.SET_PID_GAINS, \"2.5|0.02|0.7\")"
   ]
  },
  {
   "cell_type": "code",
   "execution_count": 25,
   "id": "46e516fa",
   "metadata": {},
   "outputs": [],
   "source": [
    "ble.send_command(CMD.START_PID, \"\")"
   ]
  },
  {
   "cell_type": "code",
   "execution_count": 26,
   "id": "8bc30fa2",
   "metadata": {},
   "outputs": [],
   "source": [
    "ble.send_command(CMD.STOP_PID, \"\")"
   ]
  },
  {
   "cell_type": "code",
   "execution_count": 31,
   "id": "00c203e0",
   "metadata": {},
   "outputs": [],
   "source": [
    "results = []\n",
    "# ble.stop_notify(ble.uuid['RX_STRING'])\n",
    "def notification_handler(uuid, byte_array):\n",
    "    time, imu, pwm, tof= ble.bytearray_to_string(byte_array).split('|')\n",
    "    results.append([float(time), float(imu), int(pwm), float(tof)])\n",
    "\n",
    "\n",
    "ble.start_notify(ble.uuid['RX_STRING'], notification_handler)\n",
    "ble.send_command(CMD.SEND_PID_DATA, \"\")"
   ]
  },
  {
   "cell_type": "code",
   "execution_count": 30,
   "id": "0bacc2e1",
   "metadata": {},
   "outputs": [],
   "source": [
    "ble.stop_notify(ble.uuid['RX_STRING'])"
   ]
  },
  {
   "cell_type": "code",
   "execution_count": 32,
   "id": "2699f1bf",
   "metadata": {},
   "outputs": [
    {
     "name": "stdout",
     "output_type": "stream",
     "text": [
      "[]\n"
     ]
    },
    {
     "name": "stdout",
     "output_type": "stream",
     "text": [
      "2025-04-14 19:26:27,345 |\u001b[32m INFO     \u001b[0m|: Disconnected from A1C0DD95-B611-6CFA-AF80-6BCF50487F59\n"
     ]
    }
   ],
   "source": [
    "print(results)"
   ]
  },
  {
   "cell_type": "code",
   "execution_count": null,
   "id": "004c382c",
   "metadata": {},
   "outputs": [],
   "source": [
    "import csv\n",
    "import datetime\n",
    "\n",
    "# Generate filename with timestamp to avoid overwriting\n",
    "angle = '(-2,1)'\n",
    "timestamp = datetime.datetime.now().strftime(\"%Y%m%d_%H%M%S\")\n",
    "filename = f\"robot_data_{timestamp}_{angle}.csv\"\n",
    "\n",
    "with open(filename, 'w', newline='') as csvfile:\n",
    "    csvwriter = csv.writer(csvfile)\n",
    "    # Write header\n",
    "    csvwriter.writerow(['Time (ms)', 'IMU', 'PWM', 'TOF'])\n",
    "    # Write all data rows\n",
    "    csvwriter.writerows(results)\n",
    "\n",
    "print(f\"Data saved to {filename}\")"
   ]
  },
  {
   "cell_type": "code",
   "execution_count": null,
   "id": "74bc7e04",
   "metadata": {},
   "outputs": [],
   "source": [
    "imu_angles_deg = [row[1] for row in results]\n",
    "tof_readings = [row[3] for row in results]\n",
    "\n",
    "# Convert angles from degrees to radians for plotting\n",
    "imu_angles_rad = np.radians(imu_angles_deg)\n",
    "\n",
    "# Create the polar plot\n",
    "fig, ax = plt.subplots(subplot_kw={'projection': 'polar'})\n",
    "# 'o-' plots points and connects them\n",
    "ax.plot(imu_angles_rad, tof_readings, 'o-')\n",
    "\n",
    "# Optional: Set plot limits or labels\n",
    "# Adjust radial limit slightly beyond max reading\n",
    "ax.set_rmax(max(tof_readings) * 1.1)\n",
    "ax.set_rticks(np.linspace(0, ax.get_rmax(), 5))  # Example radial ticks\n",
    "ax.set_rlabel_position(-22.5)  # Move radial labels away from plotted line\n",
    "# Set angular limits if needed\n",
    "ax.set_thetalim(min(imu_angles_rad), max(imu_angles_rad))\n",
    "ax.grid(True)\n",
    "\n",
    "ax.set_title(\"TOF Distance vs. IMU Angle\", va='bottom')\n",
    "plt.show()"
   ]
  }
 ],
 "metadata": {
  "kernelspec": {
   "display_name": "FastRobots",
   "language": "python",
   "name": "myenv"
  },
  "language_info": {
   "codemirror_mode": {
    "name": "ipython",
    "version": 3
   },
   "file_extension": ".py",
   "mimetype": "text/x-python",
   "name": "python",
   "nbconvert_exporter": "python",
   "pygments_lexer": "ipython3",
   "version": "3.11.3"
  }
 },
 "nbformat": 4,
 "nbformat_minor": 5
}
